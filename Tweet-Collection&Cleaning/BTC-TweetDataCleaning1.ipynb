{
 "cells": [
  {
   "cell_type": "markdown",
   "metadata": {
    "papermill": {
     "duration": 0.014942,
     "end_time": "2020-12-17T03:48:49.831303",
     "exception": false,
     "start_time": "2020-12-17T03:48:49.816361",
     "status": "completed"
    },
    "tags": []
   },
   "source": [
    "Here is the code to cut this dataset to : \n",
    ". data from 2017-01-01\n",
    ". tweets only in English language"
   ]
  },
  {
   "cell_type": "code",
   "execution_count": 1,
   "metadata": {
    "_cell_guid": "79c7e3d0-c299-4dcb-8224-4455121ee9b0",
    "_uuid": "d629ff2d2480ee46fbb7e2d37f6b5fab8052498a",
    "execution": {
     "iopub.execute_input": "2020-12-17T03:48:49.869338Z",
     "iopub.status.busy": "2020-12-17T03:48:49.868688Z",
     "iopub.status.idle": "2020-12-17T03:48:50.987915Z",
     "shell.execute_reply": "2020-12-17T03:48:50.987315Z"
    },
    "papermill": {
     "duration": 1.14112,
     "end_time": "2020-12-17T03:48:50.988036",
     "exception": false,
     "start_time": "2020-12-17T03:48:49.846916",
     "status": "completed"
    },
    "tags": []
   },
   "outputs": [],
   "source": [
    "from time import time\n",
    "import pandas as pd\n",
    "import numpy as np\n",
    "import re\n",
    "import sys\n",
    "import csv\n",
    "#csv.field_size_limit(sys.maxsize)\n",
    "\n",
    "import matplotlib.pyplot as plt\n",
    "from matplotlib import rcParams\n",
    "import seaborn as sns\n"
   ]
  },
  {
   "cell_type": "code",
   "execution_count": 2,
   "metadata": {
    "execution": {
     "iopub.execute_input": "2020-12-17T03:48:51.026349Z",
     "iopub.status.busy": "2020-12-17T03:48:51.025713Z",
     "iopub.status.idle": "2020-12-17T03:50:54.019855Z",
     "shell.execute_reply": "2020-12-17T03:50:54.020387Z"
    },
    "papermill": {
     "duration": 123.016354,
     "end_time": "2020-12-17T03:50:54.020569",
     "exception": false,
     "start_time": "2020-12-17T03:48:51.004215",
     "status": "completed"
    },
    "tags": []
   },
   "outputs": [
    {
     "name": "stderr",
     "output_type": "stream",
     "text": [
      "C:\\Users\\SHEEL\\anaconda3\\lib\\site-packages\\IPython\\core\\interactiveshell.py:3155: DtypeWarning: Columns (3) have mixed types.Specify dtype option on import or set low_memory=False.\n",
      "  has_raised = await self.run_ast_nodes(code_ast.body, cell_name,\n"
     ]
    },
    {
     "data": {
      "text/html": [
       "<div>\n",
       "<style scoped>\n",
       "    .dataframe tbody tr th:only-of-type {\n",
       "        vertical-align: middle;\n",
       "    }\n",
       "\n",
       "    .dataframe tbody tr th {\n",
       "        vertical-align: top;\n",
       "    }\n",
       "\n",
       "    .dataframe thead th {\n",
       "        text-align: right;\n",
       "    }\n",
       "</style>\n",
       "<table border=\"1\" class=\"dataframe\">\n",
       "  <thead>\n",
       "    <tr style=\"text-align: right;\">\n",
       "      <th></th>\n",
       "      <th>id</th>\n",
       "      <th>user</th>\n",
       "      <th>fullname</th>\n",
       "      <th>url</th>\n",
       "      <th>timestamp</th>\n",
       "      <th>replies</th>\n",
       "      <th>likes</th>\n",
       "      <th>retweets</th>\n",
       "      <th>text\\r</th>\n",
       "    </tr>\n",
       "  </thead>\n",
       "  <tbody>\n",
       "    <tr>\n",
       "      <th>0</th>\n",
       "      <td>1.132977e+18</td>\n",
       "      <td>KamdemAbdiel</td>\n",
       "      <td>Abdiel kamdem</td>\n",
       "      <td>NaN</td>\n",
       "      <td>2019-05-27 11:49:14+00</td>\n",
       "      <td>0</td>\n",
       "      <td>0</td>\n",
       "      <td>0</td>\n",
       "      <td>È appena uscito un nuovo video! LES CRYPTOMONN...</td>\n",
       "    </tr>\n",
       "    <tr>\n",
       "      <th>1</th>\n",
       "      <td>1.132977e+18</td>\n",
       "      <td>bitcointe</td>\n",
       "      <td>Bitcointe</td>\n",
       "      <td>NaN</td>\n",
       "      <td>2019-05-27 11:49:18+00</td>\n",
       "      <td>0</td>\n",
       "      <td>0</td>\n",
       "      <td>0</td>\n",
       "      <td>Cardano: Digitize Currencies; EOS https://t.co...</td>\n",
       "    </tr>\n",
       "    <tr>\n",
       "      <th>2</th>\n",
       "      <td>1.132977e+18</td>\n",
       "      <td>3eyedbran</td>\n",
       "      <td>Bran - 3 Eyed Raven</td>\n",
       "      <td>NaN</td>\n",
       "      <td>2019-05-27 11:49:06+00</td>\n",
       "      <td>0</td>\n",
       "      <td>2</td>\n",
       "      <td>1</td>\n",
       "      <td>Another Test tweet that wasn't caught in the s...</td>\n",
       "    </tr>\n",
       "    <tr>\n",
       "      <th>3</th>\n",
       "      <td>1.132977e+18</td>\n",
       "      <td>DetroitCrypto</td>\n",
       "      <td>J. Scardina</td>\n",
       "      <td>NaN</td>\n",
       "      <td>2019-05-27 11:49:22+00</td>\n",
       "      <td>0</td>\n",
       "      <td>0</td>\n",
       "      <td>0</td>\n",
       "      <td>Current Crypto Prices! \\n\\nBTC: $8721.99 USD\\n...</td>\n",
       "    </tr>\n",
       "    <tr>\n",
       "      <th>4</th>\n",
       "      <td>1.132977e+18</td>\n",
       "      <td>mmursaleen72</td>\n",
       "      <td>Muhammad Mursaleen</td>\n",
       "      <td>NaN</td>\n",
       "      <td>2019-05-27 11:49:23+00</td>\n",
       "      <td>0</td>\n",
       "      <td>0</td>\n",
       "      <td>0</td>\n",
       "      <td>Spiv (Nosar Baz): BITCOIN Is An Asset &amp;amp; NO...</td>\n",
       "    </tr>\n",
       "  </tbody>\n",
       "</table>\n",
       "</div>"
      ],
      "text/plain": [
       "             id           user             fullname  url  \\\n",
       "0  1.132977e+18   KamdemAbdiel        Abdiel kamdem  NaN   \n",
       "1  1.132977e+18      bitcointe            Bitcointe  NaN   \n",
       "2  1.132977e+18      3eyedbran  Bran - 3 Eyed Raven  NaN   \n",
       "3  1.132977e+18  DetroitCrypto          J. Scardina  NaN   \n",
       "4  1.132977e+18   mmursaleen72   Muhammad Mursaleen  NaN   \n",
       "\n",
       "                timestamp  replies  likes  retweets  \\\n",
       "0  2019-05-27 11:49:14+00        0      0         0   \n",
       "1  2019-05-27 11:49:18+00        0      0         0   \n",
       "2  2019-05-27 11:49:06+00        0      2         1   \n",
       "3  2019-05-27 11:49:22+00        0      0         0   \n",
       "4  2019-05-27 11:49:23+00        0      0         0   \n",
       "\n",
       "                                              text\\r  \n",
       "0  È appena uscito un nuovo video! LES CRYPTOMONN...  \n",
       "1  Cardano: Digitize Currencies; EOS https://t.co...  \n",
       "2  Another Test tweet that wasn't caught in the s...  \n",
       "3  Current Crypto Prices! \\n\\nBTC: $8721.99 USD\\n...  \n",
       "4  Spiv (Nosar Baz): BITCOIN Is An Asset &amp; NO...  "
      ]
     },
     "execution_count": 2,
     "metadata": {},
     "output_type": "execute_result"
    }
   ],
   "source": [
    "# Reading the dataset with no columns titles and with latin encoding \n",
    "df_raw = pd.read_csv('tweets.csv', delimiter=';', skiprows=0, lineterminator='\\n' )\n",
    "df_raw.head()"
   ]
  },
  {
   "cell_type": "code",
   "execution_count": 3,
   "metadata": {
    "execution": {
     "iopub.execute_input": "2020-12-17T03:50:54.709162Z",
     "iopub.status.busy": "2020-12-17T03:50:54.282992Z",
     "iopub.status.idle": "2020-12-17T03:50:55.600974Z",
     "shell.execute_reply": "2020-12-17T03:50:55.600329Z"
    },
    "papermill": {
     "duration": 1.509932,
     "end_time": "2020-12-17T03:50:55.601099",
     "exception": false,
     "start_time": "2020-12-17T03:50:54.091167",
     "status": "completed"
    },
    "tags": []
   },
   "outputs": [
    {
     "data": {
      "text/html": [
       "<div>\n",
       "<style scoped>\n",
       "    .dataframe tbody tr th:only-of-type {\n",
       "        vertical-align: middle;\n",
       "    }\n",
       "\n",
       "    .dataframe tbody tr th {\n",
       "        vertical-align: top;\n",
       "    }\n",
       "\n",
       "    .dataframe thead th {\n",
       "        text-align: right;\n",
       "    }\n",
       "</style>\n",
       "<table border=\"1\" class=\"dataframe\">\n",
       "  <thead>\n",
       "    <tr style=\"text-align: right;\">\n",
       "      <th></th>\n",
       "      <th>timestamp</th>\n",
       "      <th>text\\r</th>\n",
       "    </tr>\n",
       "  </thead>\n",
       "  <tbody>\n",
       "    <tr>\n",
       "      <th>9181159</th>\n",
       "      <td>2019-07-26 16:10:49+00</td>\n",
       "      <td>Bitcoin is permissionless\\r</td>\n",
       "    </tr>\n",
       "    <tr>\n",
       "      <th>1411673</th>\n",
       "      <td>2012-04-11 20:05:47+00</td>\n",
       "      <td>Wed Apr 11 22:04:00 2012 - Traded 2.04E-5 BTC ...</td>\n",
       "    </tr>\n",
       "    <tr>\n",
       "      <th>4966049</th>\n",
       "      <td>2019-05-30 23:56:58+00</td>\n",
       "      <td>Mercado #crypto mostra neste momento uma tendê...</td>\n",
       "    </tr>\n",
       "    <tr>\n",
       "      <th>4335776</th>\n",
       "      <td>2018-04-03 18:44:47+00</td>\n",
       "      <td>South Korean millennials are reeling from the ...</td>\n",
       "    </tr>\n",
       "    <tr>\n",
       "      <th>12106530</th>\n",
       "      <td>2019-09-06 14:57:00+00</td>\n",
       "      <td>🌚\\n#2k20 #RIPMugabe #SerenaWilliams #ITChapter...</td>\n",
       "    </tr>\n",
       "  </tbody>\n",
       "</table>\n",
       "</div>"
      ],
      "text/plain": [
       "                       timestamp  \\\n",
       "9181159   2019-07-26 16:10:49+00   \n",
       "1411673   2012-04-11 20:05:47+00   \n",
       "4966049   2019-05-30 23:56:58+00   \n",
       "4335776   2018-04-03 18:44:47+00   \n",
       "12106530  2019-09-06 14:57:00+00   \n",
       "\n",
       "                                                     text\\r  \n",
       "9181159                         Bitcoin is permissionless\\r  \n",
       "1411673   Wed Apr 11 22:04:00 2012 - Traded 2.04E-5 BTC ...  \n",
       "4966049   Mercado #crypto mostra neste momento uma tendê...  \n",
       "4335776   South Korean millennials are reeling from the ...  \n",
       "12106530  🌚\\n#2k20 #RIPMugabe #SerenaWilliams #ITChapter...  "
      ]
     },
     "execution_count": 3,
     "metadata": {},
     "output_type": "execute_result"
    }
   ],
   "source": [
    "df = df_raw[['timestamp','text\\r']]\n",
    "df.sample(5)"
   ]
  },
  {
   "cell_type": "code",
   "execution_count": 4,
   "metadata": {
    "execution": {
     "iopub.execute_input": "2020-12-17T03:50:55.643784Z",
     "iopub.status.busy": "2020-12-17T03:50:55.642825Z",
     "iopub.status.idle": "2020-12-17T03:50:55.647171Z",
     "shell.execute_reply": "2020-12-17T03:50:55.646667Z"
    },
    "papermill": {
     "duration": 0.028028,
     "end_time": "2020-12-17T03:50:55.647347",
     "exception": false,
     "start_time": "2020-12-17T03:50:55.619319",
     "status": "completed"
    },
    "tags": []
   },
   "outputs": [
    {
     "data": {
      "text/plain": [
       "dtype('O')"
      ]
     },
     "execution_count": 4,
     "metadata": {},
     "output_type": "execute_result"
    }
   ],
   "source": [
    "#Create split by dates \n",
    "df.timestamp.dtypes"
   ]
  },
  {
   "cell_type": "code",
   "execution_count": 5,
   "metadata": {
    "execution": {
     "iopub.execute_input": "2020-12-17T03:50:55.704564Z",
     "iopub.status.busy": "2020-12-17T03:50:55.699216Z",
     "iopub.status.idle": "2020-12-17T03:51:18.017835Z",
     "shell.execute_reply": "2020-12-17T03:51:18.018301Z"
    },
    "papermill": {
     "duration": 22.352096,
     "end_time": "2020-12-17T03:51:18.018482",
     "exception": false,
     "start_time": "2020-12-17T03:50:55.666386",
     "status": "completed"
    },
    "tags": []
   },
   "outputs": [
    {
     "name": "stderr",
     "output_type": "stream",
     "text": [
      "<ipython-input-5-58bbf96b35d8>:1: SettingWithCopyWarning: \n",
      "A value is trying to be set on a copy of a slice from a DataFrame.\n",
      "Try using .loc[row_indexer,col_indexer] = value instead\n",
      "\n",
      "See the caveats in the documentation: https://pandas.pydata.org/pandas-docs/stable/user_guide/indexing.html#returning-a-view-versus-a-copy\n",
      "  df['date'] = pd.to_datetime(df['timestamp'],format= '%Y-%m-%d').dt.date\n"
     ]
    },
    {
     "data": {
      "text/plain": [
       "0           2019-05-27\n",
       "1           2019-05-27\n",
       "2           2019-05-27\n",
       "3           2019-05-27\n",
       "4           2019-05-27\n",
       "               ...    \n",
       "16889760    2019-11-23\n",
       "16889761    2019-11-23\n",
       "16889762    2019-11-23\n",
       "16889763    2019-11-23\n",
       "16889764    2019-11-23\n",
       "Name: date, Length: 16889765, dtype: object"
      ]
     },
     "execution_count": 5,
     "metadata": {},
     "output_type": "execute_result"
    }
   ],
   "source": [
    "df['date'] = pd.to_datetime(df['timestamp'],format= '%Y-%m-%d').dt.date\n",
    "df['date']"
   ]
  },
  {
   "cell_type": "code",
   "execution_count": 9,
   "metadata": {
    "execution": {
     "iopub.execute_input": "2020-12-17T03:51:19.838415Z",
     "iopub.status.busy": "2020-12-17T03:51:19.837328Z",
     "iopub.status.idle": "2020-12-17T03:51:59.609598Z",
     "shell.execute_reply": "2020-12-17T03:51:59.610116Z"
    },
    "papermill": {
     "duration": 41.573119,
     "end_time": "2020-12-17T03:51:59.610252",
     "exception": false,
     "start_time": "2020-12-17T03:51:18.037133",
     "status": "completed"
    },
    "tags": []
   },
   "outputs": [
    {
     "data": {
      "text/html": [
       "<div>\n",
       "<style scoped>\n",
       "    .dataframe tbody tr th:only-of-type {\n",
       "        vertical-align: middle;\n",
       "    }\n",
       "\n",
       "    .dataframe tbody tr th {\n",
       "        vertical-align: top;\n",
       "    }\n",
       "\n",
       "    .dataframe thead th {\n",
       "        text-align: right;\n",
       "    }\n",
       "</style>\n",
       "<table border=\"1\" class=\"dataframe\">\n",
       "  <thead>\n",
       "    <tr style=\"text-align: right;\">\n",
       "      <th></th>\n",
       "      <th>timestamp</th>\n",
       "      <th>text\\r</th>\n",
       "      <th>date</th>\n",
       "    </tr>\n",
       "  </thead>\n",
       "  <tbody>\n",
       "    <tr>\n",
       "      <th>11291156</th>\n",
       "      <td>2007-04-19 07:14:38+00</td>\n",
       "      <td>is happily mugging at BTC where she will hook ...</td>\n",
       "      <td>2007-04-19</td>\n",
       "    </tr>\n",
       "    <tr>\n",
       "      <th>21</th>\n",
       "      <td>2009-01-11 03:33:52+00</td>\n",
       "      <td>Running bitcoin\\r</td>\n",
       "      <td>2009-01-11</td>\n",
       "    </tr>\n",
       "    <tr>\n",
       "      <th>5164467</th>\n",
       "      <td>2009-01-21 17:29:40+00</td>\n",
       "      <td>Looking at ways to add more anonymity to bitco...</td>\n",
       "      <td>2009-01-21</td>\n",
       "    </tr>\n",
       "    <tr>\n",
       "      <th>5210398</th>\n",
       "      <td>2009-01-27 20:14:10+00</td>\n",
       "      <td>Thinking about how to reduce CO2 emissions fro...</td>\n",
       "      <td>2009-01-27</td>\n",
       "    </tr>\n",
       "    <tr>\n",
       "      <th>5269667</th>\n",
       "      <td>2009-01-29 13:37:53+00</td>\n",
       "      <td>From: Satoshi Nakamoto - 2009-01-11 22:32 Bitc...</td>\n",
       "      <td>2009-01-29</td>\n",
       "    </tr>\n",
       "  </tbody>\n",
       "</table>\n",
       "</div>"
      ],
      "text/plain": [
       "                       timestamp  \\\n",
       "11291156  2007-04-19 07:14:38+00   \n",
       "21        2009-01-11 03:33:52+00   \n",
       "5164467   2009-01-21 17:29:40+00   \n",
       "5210398   2009-01-27 20:14:10+00   \n",
       "5269667   2009-01-29 13:37:53+00   \n",
       "\n",
       "                                                     text\\r        date  \n",
       "11291156  is happily mugging at BTC where she will hook ...  2007-04-19  \n",
       "21                                        Running bitcoin\\r  2009-01-11  \n",
       "5164467   Looking at ways to add more anonymity to bitco...  2009-01-21  \n",
       "5210398   Thinking about how to reduce CO2 emissions fro...  2009-01-27  \n",
       "5269667   From: Satoshi Nakamoto - 2009-01-11 22:32 Bitc...  2009-01-29  "
      ]
     },
     "execution_count": 9,
     "metadata": {},
     "output_type": "execute_result"
    }
   ],
   "source": [
    "#new df is now SORTED by DATE\n",
    "df = df.sort_values(by='date')\n",
    "df.head()"
   ]
  },
  {
   "cell_type": "markdown",
   "metadata": {
    "papermill": {
     "duration": 0.020315,
     "end_time": "2020-12-17T03:52:07.201070",
     "exception": false,
     "start_time": "2020-12-17T03:52:07.180755",
     "status": "completed"
    },
    "tags": []
   },
   "source": [
    "Now that we have cleant the dates of our data => let s analyze how many tweets are in which language, and if unbalanced, we will only keep the tweets in ENglish"
   ]
  },
  {
   "cell_type": "code",
   "execution_count": null,
   "metadata": {
    "execution": {
     "iopub.execute_input": "2020-12-17T03:52:07.247524Z",
     "iopub.status.busy": "2020-12-17T03:52:07.246780Z",
     "iopub.status.idle": "2020-12-17T03:52:21.132881Z",
     "shell.execute_reply": "2020-12-17T03:52:21.132321Z"
    },
    "papermill": {
     "duration": 13.911225,
     "end_time": "2020-12-17T03:52:21.133012",
     "exception": false,
     "start_time": "2020-12-17T03:52:07.221787",
     "status": "completed"
    },
    "tags": []
   },
   "outputs": [],
   "source": [
    "pip install whatthelang"
   ]
  },
  {
   "cell_type": "code",
   "execution_count": 1,
   "metadata": {
    "execution": {
     "iopub.execute_input": "2020-12-17T03:52:21.198716Z",
     "iopub.status.busy": "2020-12-17T03:52:21.197983Z",
     "iopub.status.idle": "2020-12-17T04:09:24.064496Z",
     "shell.execute_reply": "2020-12-17T04:09:24.065034Z"
    },
    "papermill": {
     "duration": 1022.902689,
     "end_time": "2020-12-17T04:09:24.065187",
     "exception": false,
     "start_time": "2020-12-17T03:52:21.162498",
     "status": "completed"
    },
    "tags": []
   },
   "outputs": [
    {
     "ename": "ModuleNotFoundError",
     "evalue": "No module named 'whatthelang'",
     "output_type": "error",
     "traceback": [
      "\u001b[1;31m---------------------------------------------------------------------------\u001b[0m",
      "\u001b[1;31mModuleNotFoundError\u001b[0m                       Traceback (most recent call last)",
      "\u001b[1;32m<ipython-input-1-e1ab00a1e711>\u001b[0m in \u001b[0;36m<module>\u001b[1;34m\u001b[0m\n\u001b[1;32m----> 1\u001b[1;33m \u001b[1;32mfrom\u001b[0m \u001b[0mwhatthelang\u001b[0m \u001b[1;32mimport\u001b[0m \u001b[0mWhatTheLang\u001b[0m\u001b[1;33m\u001b[0m\u001b[1;33m\u001b[0m\u001b[0m\n\u001b[0m\u001b[0;32m      2\u001b[0m \u001b[0mwtl\u001b[0m \u001b[1;33m=\u001b[0m \u001b[0mWhatTheLang\u001b[0m\u001b[1;33m(\u001b[0m\u001b[1;33m)\u001b[0m\u001b[1;33m\u001b[0m\u001b[1;33m\u001b[0m\u001b[0m\n\u001b[0;32m      3\u001b[0m \u001b[0mresult\u001b[0m \u001b[1;33m=\u001b[0m \u001b[1;33m[\u001b[0m\u001b[0mwtl\u001b[0m\u001b[1;33m.\u001b[0m\u001b[0mpredict_lang\u001b[0m\u001b[1;33m(\u001b[0m\u001b[0mrow\u001b[0m\u001b[1;33m)\u001b[0m \u001b[1;32mfor\u001b[0m \u001b[0mrow\u001b[0m \u001b[1;32min\u001b[0m \u001b[0mdf\u001b[0m\u001b[1;33m[\u001b[0m\u001b[1;34m'text'\u001b[0m\u001b[1;33m]\u001b[0m\u001b[1;33m]\u001b[0m\u001b[1;33m\u001b[0m\u001b[1;33m\u001b[0m\u001b[0m\n\u001b[0;32m      4\u001b[0m \u001b[0mdf\u001b[0m\u001b[1;33m[\u001b[0m\u001b[1;34m'lang'\u001b[0m\u001b[1;33m]\u001b[0m \u001b[1;33m=\u001b[0m \u001b[0mresult\u001b[0m\u001b[1;33m\u001b[0m\u001b[1;33m\u001b[0m\u001b[0m\n\u001b[0;32m      5\u001b[0m \u001b[0mdf\u001b[0m\u001b[1;33m.\u001b[0m\u001b[0mhead\u001b[0m\u001b[1;33m(\u001b[0m\u001b[1;33m)\u001b[0m\u001b[1;33m\u001b[0m\u001b[1;33m\u001b[0m\u001b[0m\n",
      "\u001b[1;31mModuleNotFoundError\u001b[0m: No module named 'whatthelang'"
     ]
    }
   ],
   "source": [
    "from whatthelang import WhatTheLang\n",
    "wtl = WhatTheLang()\n",
    "result = [wtl.predict_lang(row) for row in df['text']]\n",
    "df['lang'] = result\n",
    "df.head()"
   ]
  },
  {
   "cell_type": "code",
   "execution_count": null,
   "metadata": {
    "execution": {
     "iopub.execute_input": "2020-12-17T04:09:46.709573Z",
     "iopub.status.busy": "2020-12-17T04:09:46.708804Z",
     "iopub.status.idle": "2020-12-17T04:09:47.600483Z",
     "shell.execute_reply": "2020-12-17T04:09:47.599793Z"
    },
    "papermill": {
     "duration": 0.93057,
     "end_time": "2020-12-17T04:09:47.600605",
     "exception": false,
     "start_time": "2020-12-17T04:09:46.670035",
     "status": "completed"
    },
    "tags": []
   },
   "outputs": [],
   "source": [
    "\n",
    "en_df.to_csv('tweetsENdates.csv')"
   ]
  },
  {
   "cell_type": "code",
   "execution_count": null,
   "metadata": {
    "papermill": {
     "duration": 0.032984,
     "end_time": "2020-12-17T04:09:47.734998",
     "exception": false,
     "start_time": "2020-12-17T04:09:47.702014",
     "status": "completed"
    },
    "tags": []
   },
   "outputs": [],
   "source": []
  }
 ],
 "metadata": {
  "interpreter": {
   "hash": "a3f9e50695808cd9035f365396c7d9f1fcf410341c07942ffaf0355b8bd148f5"
  },
  "kernelspec": {
   "display_name": "Python 3.8.5 64-bit ('base': conda)",
   "name": "python3"
  },
  "language_info": {
   "codemirror_mode": {
    "name": "ipython",
    "version": 3
   },
   "file_extension": ".py",
   "mimetype": "text/x-python",
   "name": "python",
   "nbconvert_exporter": "python",
   "pygments_lexer": "ipython3",
   "version": "3.8.5"
  },
  "papermill": {
   "duration": 1264.479863,
   "end_time": "2020-12-17T04:09:48.960702",
   "environment_variables": {},
   "exception": null,
   "input_path": "__notebook__.ipynb",
   "output_path": "__notebook__.ipynb",
   "parameters": {},
   "start_time": "2020-12-17T03:48:44.480839",
   "version": "2.1.0"
  }
 },
 "nbformat": 4,
 "nbformat_minor": 4
}
